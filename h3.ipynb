{
 "cells": [
  {
   "cell_type": "markdown",
   "metadata": {},
   "source": [
    "**Put any package imports you need in the below space**"
   ]
  },
  {
   "cell_type": "code",
   "execution_count": 33,
   "metadata": {
    "collapsed": false
   },
   "outputs": [],
   "source": [
    "%matplotlib inline \n",
    "# you will want this if plotting with pyplot\n",
    "import networkx as nx\n",
    "import numpy as np\n",
    "import matplotlib.pyplot as plt"
   ]
  },
  {
   "cell_type": "markdown",
   "metadata": {},
   "source": [
    "**Exercise 1**: Generating the adjacency matrix A for graphs of particular type. Write a script that generates the adjacency matrix A for each of the following graphs and prints this matrix onto the screen:\n",
    "1. K5: 5-clique, or a fully connected simple, undirected graph of 5 nodes\n",
    "2. K5.3: two disconnected components, C1 and C2, where C1 is a 5-clique K5 and C2 is a 3-clique K3\n",
    "3. K5.3e: Almost the same as K53 but there is a single edge connecting the two components\n",
    "4. B2.3: Complete bi-partite graph with n1=2 nodes in the first part and n2=3 nodes in the second part\n",
    "5. S5: A 5-vertex star (one central \"hub\" node that connects to all the other \"spoke\" nodes)\n",
    "6. P5: A simple path of 5 vertices\n"
   ]
  },
  {
   "cell_type": "code",
   "execution_count": 10,
   "metadata": {
    "collapsed": false
   },
   "outputs": [
    {
     "name": "stdout",
     "output_type": "stream",
     "text": [
      "Adjacency matrix for K5\n",
      "[[0 1 1 1 1]\n",
      " [1 0 1 1 1]\n",
      " [1 1 0 1 1]\n",
      " [1 1 1 0 1]\n",
      " [1 1 1 1 0]]\n",
      "Adjacency matrix for K5.3\n",
      "[[0 1 1 1 1 0 0 0]\n",
      " [1 0 1 1 1 0 0 0]\n",
      " [1 1 0 1 1 0 0 0]\n",
      " [1 1 1 0 1 0 0 0]\n",
      " [1 1 1 1 0 0 0 0]\n",
      " [0 0 0 0 0 0 1 1]\n",
      " [0 0 0 0 0 1 0 1]\n",
      " [0 0 0 0 0 1 1 0]]\n",
      "Adjacency matrix for K5.3e\n",
      "[[0 1 1 1 1 0 0 0]\n",
      " [1 0 1 1 1 1 0 0]\n",
      " [1 1 0 1 1 0 0 0]\n",
      " [1 1 1 0 1 0 0 0]\n",
      " [1 1 1 1 0 0 0 0]\n",
      " [0 1 0 0 0 0 1 1]\n",
      " [0 0 0 0 0 1 0 1]\n",
      " [0 0 0 0 0 1 1 0]]\n",
      "Adjacency matrix for B2.3\n",
      "[[0 0 1 1 1]\n",
      " [0 0 1 1 1]\n",
      " [1 1 0 0 0]\n",
      " [1 1 0 0 0]\n",
      " [1 1 0 0 0]]\n",
      "Adjacency matrix for S5\n",
      "[[0 1 1 1 1]\n",
      " [1 0 0 0 0]\n",
      " [1 0 0 0 0]\n",
      " [1 0 0 0 0]\n",
      " [1 0 0 0 0]]\n",
      "Adjacency matrix for P5\n",
      "[[0 1 0 0 0]\n",
      " [1 0 1 0 0]\n",
      " [0 1 0 1 0]\n",
      " [0 0 1 0 1]\n",
      " [0 0 0 1 0]]\n"
     ]
    }
   ],
   "source": [
    "#K5: 5-clique, or a fully connected simple, undirected graph of 5 nodes\n",
    "K5 = nx.complete_graph(5)\n",
    "adjacencyMatrixK5 = nx.adjacency_matrix(K5)\n",
    "print('Adjacency matrix for K5')\n",
    "print(adjacencyMatrixK5.todense())\n",
    "\n",
    "#K5.3: two disconnected components, C1 and C2, where C1 is a 5-clique K5 and C2 is a 3-clique K3\n",
    "K3 = nx.complete_graph(3)\n",
    "K53 = nx.disjoint_union(K5,K3)\n",
    "adjacencyMatrixK53 = nx.adjacency_matrix(K53)\n",
    "print('Adjacency matrix for K5.3')\n",
    "print(adjacencyMatrixK53.todense())\n",
    "\n",
    "#K5.3e: Almost the same as K53 but there is a single edge connecting the two components\n",
    "K53e = nx.disjoint_union(K5,K3)\n",
    "K53e.add_edge(5,1)\n",
    "adjacencyMatrixK53e = nx.adjacency_matrix(K53e)\n",
    "print('Adjacency matrix for K5.3e')\n",
    "print(adjacencyMatrixK53e.todense())\n",
    "\n",
    "#B2.3: Complete bi-partite graph with n1=2 nodes in the first part and n2=3 nodes in the second part\n",
    "B23 = nx.complete_multipartite_graph(2, 3)\n",
    "adjacencyMatrixB23 = nx.adjacency_matrix(B23)\n",
    "print('Adjacency matrix for B2.3')\n",
    "print(adjacencyMatrixB23.todense())\n",
    "\n",
    "#S5: A 5-vertex star (one central \"hub\" node that connects to all the other \"spoke\" nodes)\n",
    "S5=nx.star_graph(4)\n",
    "adjacencyMatrixS5 = nx.adjacency_matrix(S5)\n",
    "print('Adjacency matrix for S5')\n",
    "print(adjacencyMatrixS5.todense())\n",
    "\n",
    "#P5: A simple path of 5 vertices\n",
    "P5=nx.path_graph(5)\n",
    "adjacencyMatrixP5 = nx.adjacency_matrix(P5)\n",
    "print('Adjacency matrix for P5')\n",
    "print(adjacencyMatrixP5.todense())\n"
   ]
  },
  {
   "cell_type": "markdown",
   "metadata": {},
   "source": [
    "**Exercise 2**: Generating the degree matrix D for a given adjacency matrix A. Write a script that generates a degree matrix for each of the adjacency matrices in Exercise 1. Note that the degree matrix is a diagonal matrix where all the positions except for the diagonal are zero's. The diagonal elements correspond to the degrees of the corresponding nodes, namely Dii = degree(v_i)."
   ]
  },
  {
   "cell_type": "code",
   "execution_count": 27,
   "metadata": {
    "collapsed": false
   },
   "outputs": [
    {
     "name": "stdout",
     "output_type": "stream",
     "text": [
      "Degree Matrix for K5\n",
      "[[4 0 0 0 0]\n",
      " [0 4 0 0 0]\n",
      " [0 0 4 0 0]\n",
      " [0 0 0 4 0]\n",
      " [0 0 0 0 4]]\n",
      "Degree Matrix for K5.3\n",
      "[[4 0 0 0 0 0 0 0]\n",
      " [0 4 0 0 0 0 0 0]\n",
      " [0 0 4 0 0 0 0 0]\n",
      " [0 0 0 4 0 0 0 0]\n",
      " [0 0 0 0 4 0 0 0]\n",
      " [0 0 0 0 0 2 0 0]\n",
      " [0 0 0 0 0 0 2 0]\n",
      " [0 0 0 0 0 0 0 2]]\n",
      "Degree Matrix for K5.3e\n",
      "[[4 0 0 0 0 0 0 0]\n",
      " [0 5 0 0 0 0 0 0]\n",
      " [0 0 4 0 0 0 0 0]\n",
      " [0 0 0 4 0 0 0 0]\n",
      " [0 0 0 0 4 0 0 0]\n",
      " [0 0 0 0 0 3 0 0]\n",
      " [0 0 0 0 0 0 2 0]\n",
      " [0 0 0 0 0 0 0 2]]\n",
      "Degree Matrix for B2.3\n",
      "[[3 0 0 0 0]\n",
      " [0 3 0 0 0]\n",
      " [0 0 2 0 0]\n",
      " [0 0 0 2 0]\n",
      " [0 0 0 0 2]]\n",
      "Degree Matrix for S5\n",
      "[[4 0 0 0 0]\n",
      " [0 1 0 0 0]\n",
      " [0 0 1 0 0]\n",
      " [0 0 0 1 0]\n",
      " [0 0 0 0 1]]\n",
      "Degree Matrix for P5\n",
      "[[1 0 0 0 0]\n",
      " [0 2 0 0 0]\n",
      " [0 0 2 0 0]\n",
      " [0 0 0 2 0]\n",
      " [0 0 0 0 1]]\n"
     ]
    }
   ],
   "source": [
    "# Degree Matrix for K5\n",
    "i = K5.number_of_nodes()\n",
    "d = np.zeros((i,i),dtype=int)\n",
    "i = 0\n",
    "for node in K5.nodes():\n",
    "    d[i,i] = K5.degree(node)\n",
    "    i = i + 1\n",
    "print('Degree Matrix for K5')\n",
    "print(d)\n",
    "    \n",
    "# Degree Matrix for K5.3\n",
    "i = K53.number_of_nodes()\n",
    "d = np.zeros((i,i),dtype=int)\n",
    "i = 0\n",
    "for node in K53.nodes():\n",
    "    d[i,i] = K53.degree(node)\n",
    "    i = i + 1\n",
    "print('Degree Matrix for K5.3')\n",
    "print(d)\n",
    "\n",
    "# Degree Matrix for K5.3e\n",
    "i = K53e.number_of_nodes()\n",
    "d = np.zeros((i,i),dtype=int)\n",
    "i = 0\n",
    "for node in K53e.nodes():\n",
    "    d[i,i] = K53e.degree(node)\n",
    "    i = i + 1\n",
    "print('Degree Matrix for K5.3e')\n",
    "print(d)\n",
    "\n",
    "# Degree Matrix for B2.3\n",
    "i = B23.number_of_nodes()\n",
    "d = np.zeros((i,i),dtype=int)\n",
    "i = 0\n",
    "for node in B23.nodes():\n",
    "    d[i,i] = B23.degree(node)\n",
    "    i = i + 1\n",
    "print('Degree Matrix for B2.3')\n",
    "print(d)\n",
    "\n",
    "# Degree Matrix for S5\n",
    "i = S5.number_of_nodes()\n",
    "d = np.zeros((i,i),dtype=int)\n",
    "i = 0\n",
    "for node in S5.nodes():\n",
    "    d[i,i] = S5.degree(node)\n",
    "    i = i + 1\n",
    "print('Degree Matrix for S5')\n",
    "print(d)\n",
    "\n",
    "# Degree Matrix for P5\n",
    "i = P5.number_of_nodes()\n",
    "d = np.zeros((i,i),dtype=int)\n",
    "i = 0\n",
    "for node in P5.nodes():\n",
    "    d[i,i] = P5.degree(node)\n",
    "    i = i + 1\n",
    "print('Degree Matrix for P5')\n",
    "print(d)"
   ]
  },
  {
   "cell_type": "markdown",
   "metadata": {},
   "source": [
    "**Exercise 3**: Generating the graph Laplacian matrix L for a given adjacency matrix A and its degree matrix D. Write a script that generates the graph Laplacian matrix L = D - A for each of the adjacency matrices in Exercise 1."
   ]
  },
  {
   "cell_type": "code",
   "execution_count": 31,
   "metadata": {
    "collapsed": false
   },
   "outputs": [
    {
     "name": "stdout",
     "output_type": "stream",
     "text": [
      "Laplacian matrix for K5\n",
      "[[ 4 -1 -1 -1 -1]\n",
      " [-1  4 -1 -1 -1]\n",
      " [-1 -1  4 -1 -1]\n",
      " [-1 -1 -1  4 -1]\n",
      " [-1 -1 -1 -1  4]]\n",
      "Laplacian matrix for K5.3\n",
      "[[ 4 -1 -1 -1 -1  0  0  0]\n",
      " [-1  4 -1 -1 -1  0  0  0]\n",
      " [-1 -1  4 -1 -1  0  0  0]\n",
      " [-1 -1 -1  4 -1  0  0  0]\n",
      " [-1 -1 -1 -1  4  0  0  0]\n",
      " [ 0  0  0  0  0  2 -1 -1]\n",
      " [ 0  0  0  0  0 -1  2 -1]\n",
      " [ 0  0  0  0  0 -1 -1  2]]\n",
      "Laplacian matrix for K5.3e\n",
      "[[ 4 -1 -1 -1 -1  0  0  0]\n",
      " [-1  5 -1 -1 -1 -1  0  0]\n",
      " [-1 -1  4 -1 -1  0  0  0]\n",
      " [-1 -1 -1  4 -1  0  0  0]\n",
      " [-1 -1 -1 -1  4  0  0  0]\n",
      " [ 0 -1  0  0  0  3 -1 -1]\n",
      " [ 0  0  0  0  0 -1  2 -1]\n",
      " [ 0  0  0  0  0 -1 -1  2]]\n",
      "Laplacian matrix for B2.3\n",
      "[[ 3  0 -1 -1 -1]\n",
      " [ 0  3 -1 -1 -1]\n",
      " [-1 -1  2  0  0]\n",
      " [-1 -1  0  2  0]\n",
      " [-1 -1  0  0  2]]\n",
      "Laplacian matrix for S5\n",
      "[[ 4 -1 -1 -1 -1]\n",
      " [-1  1  0  0  0]\n",
      " [-1  0  1  0  0]\n",
      " [-1  0  0  1  0]\n",
      " [-1  0  0  0  1]]\n",
      "Laplacian matrix for P5\n",
      "[[ 1 -1  0  0  0]\n",
      " [-1  2 -1  0  0]\n",
      " [ 0 -1  2 -1  0]\n",
      " [ 0  0 -1  2 -1]\n",
      " [ 0  0  0 -1  1]]\n"
     ]
    }
   ],
   "source": [
    "L = nx.laplacian_matrix(K5)\n",
    "print('Laplacian matrix for K5')\n",
    "print(L.todense())\n",
    "\n",
    "L = nx.laplacian_matrix(K53)\n",
    "print('Laplacian matrix for K5.3')\n",
    "print(L.todense())\n",
    "\n",
    "L = nx.laplacian_matrix(K53e)\n",
    "print('Laplacian matrix for K5.3e')\n",
    "print(L.todense())\n",
    "\n",
    "L = nx.laplacian_matrix(B23)\n",
    "print('Laplacian matrix for B2.3')\n",
    "print(L.todense())\n",
    "\n",
    "L = nx.laplacian_matrix(S5)\n",
    "print('Laplacian matrix for S5')\n",
    "print(L.todense())\n",
    "\n",
    "L = nx.laplacian_matrix(P5)\n",
    "print('Laplacian matrix for P5')\n",
    "print(L.todense())"
   ]
  },
  {
   "cell_type": "markdown",
   "metadata": {},
   "source": [
    "Answer the following questions:\n",
    "1. Is L a sparse matrix?\n",
    "2. In what positions does L have non-zero elements?\n",
    "3. What are the values of the non-diagonal and non-zero elements?\n",
    "4. What does L contain along its diagonal?\n",
    "\n"
   ]
  },
  {
   "cell_type": "markdown",
   "metadata": {},
   "source": [
    "Answers:\n",
    "1. No, the Laplacian matrix is not a sparse matrix.\n",
    "2. L has non-zero elements on the diagonal(contains degree of the node) and the cells where an edge is present between the 2 nodes(non-empty in adjacency matrix).\n",
    "3. Non-diagonal and non-zero elements have the value -1.\n",
    "4. Along the diagonal, L contains the value of degrees of the corresponding nodes.\n",
    "\n"
   ]
  },
  {
   "cell_type": "markdown",
   "metadata": {},
   "source": [
    "**Exercise 4**: Generating the graph spectrum, or the multiset of the eigenvalues of the graph adjacency matrix A. Write a script that calculates the eigenvalues of the graph adjacency matrix for each of the matrices in Exercise 1. Plot the eigenvalues in the increasing order of their values"
   ]
  },
  {
   "cell_type": "code",
   "execution_count": 49,
   "metadata": {
    "collapsed": false
   },
   "outputs": [
    {
     "name": "stdout",
     "output_type": "stream",
     "text": [
      "Graph spectrum for adjacency matrix of K5\n",
      "[-1.0, 4.0, -1.0, -0.99999999999999956, -1.0]\n"
     ]
    },
    {
     "data": {
      "image/png": "[encoded data removed]",
      "text/plain": [
       "<matplotlib.figure.Figure at 0x1e92dc54080>"
      ]
     },
     "metadata": {},
     "output_type": "display_data"
    },
    {
     "name": "stdout",
     "output_type": "stream",
     "text": [
      "Graph spectrum for adjacency matrix of K5.3\n",
      "[-1.0, 4.0, -1.0, -0.99999999999999956, -1.0, -1.0000000000000002, 1.9999999999999993, -0.99999999999999989]\n"
     ]
    },
    {
     "data": {
      "image/png": "[encoded data removed]",
      "text/plain": [
       "<matplotlib.figure.Figure at 0x1e92da03198>"
      ]
     },
     "metadata": {},
     "output_type": "display_data"
    },
    {
     "name": "stdout",
     "output_type": "stream",
     "text": [
      "Graph spectrum for adjacency matrix ofK5.3e\n",
      "[4.0615344397775832, 2.0549225470503449, -1.7798711444464557, -0.33658584238146627, -1.0000000000000004, -1.0, -1.0000000000000004, -1.0000000000000002]\n"
     ]
    },
    {
     "data": {
      "image/png": "[encoded data removed]",
      "text/plain": [
       "<matplotlib.figure.Figure at 0x1e92f177b70>"
      ]
     },
     "metadata": {},
     "output_type": "display_data"
    },
    {
     "name": "stdout",
     "output_type": "stream",
     "text": [
      "Graph spectrum for adjacency matrix of B2.3\n",
      "[2.4494897427831788, -2.4494897427831774, 2.8866158951433349e-16, 9.6660067518829571e-48, 1.2154326714572542e-63]\n"
     ]
    },
    {
     "data": {
      "image/png": "[encoded data removed]",
      "text/plain": [
       "<matplotlib.figure.Figure at 0x1e92dceec18>"
      ]
     },
     "metadata": {},
     "output_type": "display_data"
    },
    {
     "name": "stdout",
     "output_type": "stream",
     "text": [
      "Graph spectrum for adjacency matrix of S5\n",
      "[2.0, -1.9999999999999996, 0.0, 0.0, 0.0]\n"
     ]
    },
    {
     "data": {
      "image/png": "[encoded data removed]",
      "text/plain": [
       "<matplotlib.figure.Figure at 0x1e92d6a5fd0>"
      ]
     },
     "metadata": {},
     "output_type": "display_data"
    },
    {
     "name": "stdout",
     "output_type": "stream",
     "text": [
      "Graph spectrum for adjacency matrix of P5\n",
      "[1.7320508075688805, -1.7320508075688763, -0.99999999999999922, -3.2982420948648636e-17, 1.0]\n"
     ]
    },
    {
     "data": {
      "image/png": "[encoded data removed]",
      "text/plain": [
       "<matplotlib.figure.Figure at 0x1e92dd416a0>"
      ]
     },
     "metadata": {},
     "output_type": "display_data"
    }
   ],
   "source": [
    "ev = nx.adjacency_spectrum(K5)\n",
    "print('Graph spectrum for adjacency matrix of K5')\n",
    "ev = [ x.real for x in ev ]\n",
    "print(ev)\n",
    "plt.scatter(range(K5.number_of_nodes()), np.sort(ev))\n",
    "plt.grid(True)\n",
    "plt.show()\n",
    "\n",
    "ev = nx.adjacency_spectrum(K53)\n",
    "print('Graph spectrum for adjacency matrix of K5.3')\n",
    "ev = [ x.real for x in ev ]\n",
    "print(ev)\n",
    "plt.scatter(range(K53.number_of_nodes()), np.sort(ev))\n",
    "plt.grid(True)\n",
    "plt.show()\n",
    "\n",
    "ev = nx.adjacency_spectrum(K53e)\n",
    "print('Graph spectrum for adjacency matrix ofK5.3e')\n",
    "ev = [ x.real for x in ev ]\n",
    "print(ev)\n",
    "plt.scatter(range(K53e.number_of_nodes()), np.sort(ev))\n",
    "plt.grid(True)\n",
    "plt.show()\n",
    "\n",
    "ev = nx.adjacency_spectrum(B23)\n",
    "print('Graph spectrum for adjacency matrix of B2.3')\n",
    "ev = [ x.real for x in ev ]\n",
    "print(ev)\n",
    "plt.scatter(range(B23.number_of_nodes()), np.sort(ev))\n",
    "plt.grid(True)\n",
    "plt.show()\n",
    "\n",
    "ev = nx.adjacency_spectrum(S5)\n",
    "print('Graph spectrum for adjacency matrix of S5')\n",
    "ev = [ x.real for x in ev ]\n",
    "print(ev)\n",
    "plt.scatter(range(S5.number_of_nodes()), np.sort(ev))\n",
    "plt.grid(True)\n",
    "plt.show()\n",
    "\n",
    "ev = nx.adjacency_spectrum(P5)\n",
    "print('Graph spectrum for adjacency matrix of P5')\n",
    "ev = [ x.real for x in ev ]\n",
    "print(ev)\n",
    "plt.scatter(range(P5.number_of_nodes()), np.sort(ev))\n",
    "plt.grid(True)\n",
    "plt.show()"
   ]
  },
  {
   "cell_type": "markdown",
   "metadata": {},
   "source": [
    "Answer the following questions:\n",
    "1. What can you say about the eigenvalues of the complete graph (K5): the number of unique eigenvalues, the largest and the smallest eigenvalues, the multiplicity (how many times the same eigenvalue appears) of each eigenvalue?\n",
    "2. What is the graph spectrum of the bi-partite graph, B2.3? If n1 = n and n2 = m (a general complete bi-partite graph), then what can you say about its graph spectrum? [Hint: check sqrt(n * m)] If \\lambda is the eigenvalue of the bi-partite graph, will minus \\lambda be also the eigenvalue?\n",
    "3. What is the largest eigenvalue of the star graph S5? If S5 were generalized to an N-vertex star, what could you say about the value of its largest eigenvalue?\n",
    "4. What is the largest eigenvalue of the path graph P5? As the length of the path increases, what can you say about the changes in the largest eigenvalue?\n",
    "5. How does the largest eigenvalue of the path P5 (or its more generalization to an arbitrary length) compare with the largest eigenvalues of the star graph or the complete graph? If you are asked to sort the largest eigenvalue of the path, the star, and the clique) in the increasing order, what kind of relationship would you assign (E.g., \\lambda{path} > or < than \\lambda{star})?\n"
   ]
  },
  {
   "cell_type": "markdown",
   "metadata": {},
   "source": [
    "Answers:\n",
    "1. For the complete graph K5:\n",
    "    There are only 2 unique eigenvalues -1 and (n-1) where n is the number of nodes in the graph.\n",
    "    The largest eigenvalue is n-1 i.e. 4 and the smallest is -1. \n",
    "    The largest eigenvalue appears only once and the second eigenvalue -1 has the multiplicity of n-1 or 4 in this case.\n",
    "2. The graph spectrum for bi-partite graph B2.3 is \n",
    "    [2.4494897427831788, -2.4494897427831774, 2.8866158951433349e-16, 9.6660067518829571e-48, 1.2154326714572542e-63] \n",
    "    (ignoring the imaginary part) which is approximately [2.45, -2.45, 0, 0, 0].\n",
    "    For a bi-partite graph Bnm, two eigenvalues will be sqrt(nm) and -sqrt(nm) and the remaining eigenvalues are zero.\n",
    "    Yes, if lambda is the eigenvalue of the bi-partite graph, minus lambda will also be the eigenvalue.\n",
    "3. The largest eigenvalue for the star graph S5 is 2. \n",
    "    So the largest eigenvalue for N-vertex star graph would be sqrt(N-1).\n",
    "4. The largest eigenvalue of the path graph P5 is 1.7320508075688805.\n",
    "    As, the length of the path increases, the largest eigenvalue becomes closer to 2.\n",
    "5. In this case, the largest eigenvalue of P5(1.73) is lesser than both that of S5(2) and K5(4).\n",
    "    In general, lambda(path)<=lambda(star)<=lambda(clique).\n"
   ]
  },
  {
   "cell_type": "markdown",
   "metadata": {},
   "source": [
    "**Exercise 5**: Generating the graph spectrum, or the multiset of the eigenvalues of the graph Laplacian. Write a script that calculates the eigenvalues of the graph Laplacian for each of the graphs in Exercise 1. Plot the eigenvalues in the increasing order of their values. "
   ]
  },
  {
   "cell_type": "code",
   "execution_count": 50,
   "metadata": {
    "collapsed": false
   },
   "outputs": [
    {
     "name": "stdout",
     "output_type": "stream",
     "text": [
      "Graph spectrum for graph Laplacian of K5\n",
      "[-8.8817841970012523e-16, 4.9999999999999991, 5.0, 5.0, 5.0000000000000009]\n"
     ]
    },
    {
     "data": {
      "image/png": "[encoded data removed]",
      "text/plain": [
       "<matplotlib.figure.Figure at 0x1e92dafcbe0>"
      ]
     },
     "metadata": {},
     "output_type": "display_data"
    },
    {
     "name": "stdout",
     "output_type": "stream",
     "text": [
      "Graph spectrum for graph Laplacian of K5.3\n",
      "[-7.7715611723760958e-16, -1.1102230246251565e-16, 3.0, 3.0, 4.9999999999999991, 5.0, 5.0, 5.0000000000000027]\n"
     ]
    },
    {
     "data": {
      "image/png": "[encoded data removed]",
      "text/plain": [
       "<matplotlib.figure.Figure at 0x1e92f110a90>"
      ]
     },
     "metadata": {},
     "output_type": "display_data"
    },
    {
     "name": "stdout",
     "output_type": "stream",
     "text": [
      "Graph spectrum for graph Laplacian ofK5.3e\n",
      "[3.8857805861880479e-16, 0.37380193147270685, 3.0000000000000009, 3.4848619528719298, 4.9999999999999991, 5.0000000000000009, 5.0000000000000053, 6.1413361156553661]\n"
     ]
    },
    {
     "data": {
      "image/png": "[encoded data removed]",
      "text/plain": [
       "<matplotlib.figure.Figure at 0x1e92e056048>"
      ]
     },
     "metadata": {},
     "output_type": "display_data"
    },
    {
     "name": "stdout",
     "output_type": "stream",
     "text": [
      "Graph spectrum for graph Laplacian of B2.3\n",
      "[-8.3266726846886741e-16, 1.9999999999999989, 1.9999999999999998, 2.9999999999999996, 5.0000000000000009]\n"
     ]
    },
    {
     "data": {
      "image/png": "[encoded data removed]",
      "text/plain": [
       "<matplotlib.figure.Figure at 0x1e92a94c320>"
      ]
     },
     "metadata": {},
     "output_type": "display_data"
    },
    {
     "name": "stdout",
     "output_type": "stream",
     "text": [
      "Graph spectrum for graph Laplacian of S5\n",
      "[0.0, 1.0, 1.0, 1.0, 5.0]\n"
     ]
    },
    {
     "data": {
      "image/png": "[encoded data removed]",
      "text/plain": [
       "<matplotlib.figure.Figure at 0x1e92dee2ef0>"
      ]
     },
     "metadata": {},
     "output_type": "display_data"
    },
    {
     "name": "stdout",
     "output_type": "stream",
     "text": [
      "Graph spectrum for graph Laplacian of P5\n",
      "[4.9969247923019599e-17, 0.38196601125010521, 1.3819660112501049, 2.6180339887498953, 3.6180339887498945]\n"
     ]
    },
    {
     "data": {
      "image/png": "[encoded data removed]",
      "text/plain": [
       "<matplotlib.figure.Figure at 0x1e92d5756a0>"
      ]
     },
     "metadata": {},
     "output_type": "display_data"
    }
   ],
   "source": [
    "ev = nx.laplacian_spectrum(K5)\n",
    "print('Graph spectrum for graph Laplacian of K5')\n",
    "ev = [ x.real for x in ev ]\n",
    "print(ev)\n",
    "plt.scatter(range(K5.number_of_nodes()), np.sort(ev))\n",
    "plt.grid(True)\n",
    "plt.show()\n",
    "\n",
    "ev = nx.laplacian_spectrum(K53)\n",
    "print('Graph spectrum for graph Laplacian of K5.3')\n",
    "ev = [ x.real for x in ev ]\n",
    "print(ev)\n",
    "plt.scatter(range(K53.number_of_nodes()), np.sort(ev))\n",
    "plt.grid(True)\n",
    "plt.show()\n",
    "\n",
    "ev = nx.laplacian_spectrum(K53e)\n",
    "print('Graph spectrum for graph Laplacian ofK5.3e')\n",
    "ev = [ x.real for x in ev ]\n",
    "print(ev)\n",
    "plt.scatter(range(K53e.number_of_nodes()), np.sort(ev))\n",
    "plt.grid(True)\n",
    "plt.show()\n",
    "\n",
    "ev = nx.laplacian_spectrum(B23)\n",
    "print('Graph spectrum for graph Laplacian of B2.3')\n",
    "ev = [ x.real for x in ev ]\n",
    "print(ev)\n",
    "plt.scatter(range(B23.number_of_nodes()), np.sort(ev))\n",
    "plt.grid(True)\n",
    "plt.show()\n",
    "\n",
    "ev = nx.laplacian_spectrum(S5)\n",
    "print('Graph spectrum for graph Laplacian of S5')\n",
    "ev = [ x.real for x in ev ]\n",
    "print(ev)\n",
    "plt.scatter(range(S5.number_of_nodes()), np.sort(ev))\n",
    "plt.grid(True)\n",
    "plt.show()\n",
    "\n",
    "ev = nx.laplacian_spectrum(P5)\n",
    "print('Graph spectrum for graph Laplacian of P5')\n",
    "ev = [ x.real for x in ev ]\n",
    "print(ev)\n",
    "plt.scatter(range(P5.number_of_nodes()), np.sort(ev))\n",
    "plt.grid(True)\n",
    "plt.show()"
   ]
  },
  {
   "cell_type": "markdown",
   "metadata": {},
   "source": [
    "Answer the following questions:\n",
    "1. What can you say about the largest and the smallest eigenvalues?\n",
    "2. What is the multiplicity (how many times the same eigenvalue appears) of the zero eigenvalue for each of the cases?\n",
    "3. If K53 graph would be generalized to include c>2 components, what can you say about the multiplicity of the zero eigenvalues?\n",
    "4. If graph G is connected (i.e., the number of disconnected components is one), what can you say about the multiplicity of the zero eigenvalue?\n",
    "5. For the bi-partite graph, what is the value of the second smallest eigenvalue?\n",
    "6. Is the vector, whose components consist of 1's only, the eigenvector of the Laplacian? If it is, then what is its corresponding eigenvalue?\n",
    "7. Suppose the graph Laplacian matrix has the zero eigenvalue of multiplicity k. Can you say anything about the structure of such a graph?\n"
   ]
  },
  {
   "cell_type": "markdown",
   "metadata": {},
   "source": [
    "Answers:\n",
    "1. The smallest eigenvalue for all the graphs is 0. The largest eigenvalue for the graphs is as follows:\n",
    "    K5    5      Number of nodes\n",
    "    K5.3  5      Number of nodes in the larger clique  \n",
    "    K5.3e 6.14   \n",
    "    B2.3  5      Number of nodes\n",
    "    S5    5      Number of nodes\n",
    "    P5    3.6\n",
    "2. Multiplicty of the zero eigenvalue-\n",
    "    K5    1\n",
    "    K5.3  2\n",
    "    K5.3e 1\n",
    "    B2.3  1\n",
    "    S5    1\n",
    "    P5    1\n",
    "3. The multiplicity of the zero eigenvalue is equal to the number of disconnected components in the graph.\n",
    "4. If the graph is connected, then the multiplicity of zero eigenvalue is 1.\n",
    "5. For a bi-partite graph B2.3, the second smallest eigenvalue is 2 i.e. minimum of(2,3).\n",
    "6. Yes, the vector with all 1s is the eigenvector of the Laplacian. The corresponding eigenvalue is 0.\n",
    "7. If the zero eigenvalue has multiplicity k, the graph has k disconnected components."
   ]
  }
 ],
 "metadata": {
  "kernelspec": {
   "display_name": "Python 3",
   "language": "python",
   "name": "python3"
  },
  "language_info": {
   "codemirror_mode": {
    "name": "ipython",
    "version": 3
   },
   "file_extension": ".py",
   "mimetype": "text/x-python",
   "name": "python",
   "nbconvert_exporter": "python",
   "pygments_lexer": "ipython3",
   "version": "3.6.0"
  }
 },
 "nbformat": 4,
 "nbformat_minor": 0
}
